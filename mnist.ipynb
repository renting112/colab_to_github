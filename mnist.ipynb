{
  "nbformat": 4,
  "nbformat_minor": 0,
  "metadata": {
    "colab": {
      "name": "mnist.ipynb",
      "version": "0.3.2",
      "provenance": [],
      "include_colab_link": true
    },
    "kernelspec": {
      "name": "python3",
      "display_name": "Python 3"
    },
    "accelerator": "GPU"
  },
  "cells": [
    {
      "cell_type": "markdown",
      "metadata": {
        "id": "view-in-github",
        "colab_type": "text"
      },
      "source": [
        "<a href=\"https://colab.research.google.com/github/renting112/colab_to_github/blob/master/mnist.ipynb\" target=\"_parent\"><img src=\"https://colab.research.google.com/assets/colab-badge.svg\" alt=\"Open In Colab\"/></a>"
      ]
    },
    {
      "cell_type": "code",
      "metadata": {
        "id": "w9YUnugw_FGG",
        "colab_type": "code",
        "outputId": "301ae6ed-d274-4153-8e0a-bedbe0dbb65c",
        "colab": {
          "base_uri": "https://localhost:8080/",
          "height": 35
        }
      },
      "source": [
        "import numpy as np\n",
        "import matplotlib.pyplot as plt\n",
        "from keras.models import Sequential\n",
        "from keras.layers.core import Dense, Dropout\n",
        "from keras.optimizers import SGD\n",
        "%matplotlib inline\n",
        "import tensorflow as tf"
      ],
      "execution_count": 0,
      "outputs": [
        {
          "output_type": "stream",
          "text": [
            "Using TensorFlow backend.\n"
          ],
          "name": "stderr"
        }
      ]
    },
    {
      "cell_type": "code",
      "metadata": {
        "id": "-PS12hAu_l9g",
        "colab_type": "code",
        "outputId": "bddfecab-3106-4a7b-e3c4-abdf9524fc17",
        "colab": {
          "base_uri": "https://localhost:8080/",
          "height": 53
        }
      },
      "source": [
        "from keras.datasets import mnist\n",
        "from keras.utils import np_utils\n",
        "\n",
        "(X_train, y_train), (X_test, y_test) = mnist.load_data()"
      ],
      "execution_count": 0,
      "outputs": [
        {
          "output_type": "stream",
          "text": [
            "Downloading data from https://s3.amazonaws.com/img-datasets/mnist.npz\n",
            "11493376/11490434 [==============================] - 0s 0us/step\n"
          ],
          "name": "stdout"
        }
      ]
    },
    {
      "cell_type": "code",
      "metadata": {
        "id": "27QhfJna_x2d",
        "colab_type": "code",
        "outputId": "ce654542-819e-432d-c997-a817240be8fe",
        "colab": {
          "base_uri": "https://localhost:8080/",
          "height": 35
        }
      },
      "source": [
        "X_train = X_train.reshape(60000, 784)\n",
        "X_test = X_test.reshape(10000, 784)\n",
        "X_train = X_train.astype(\"float32\")\n",
        "X_test = X_test.astype(\"float32\")\n",
        "\n",
        "# 做一下幅度缩放\n",
        "X_train /= 255\n",
        "X_test /= 255\n",
        "\n",
        "# 把数字1，4，7等转成one-hot的形式\n",
        "Y_train = np_utils.to_categorical(y_train, 10)\n",
        "Y_test = np_utils.to_categorical(y_test, 10)\n",
        "print(X_train.shape)"
      ],
      "execution_count": 0,
      "outputs": [
        {
          "output_type": "stream",
          "text": [
            "(60000, 784)\n"
          ],
          "name": "stdout"
        }
      ]
    },
    {
      "cell_type": "code",
      "metadata": {
        "id": "7h2L_FdeAUHy",
        "colab_type": "code",
        "colab": {}
      },
      "source": [
        "from sklearn.model_selection import train_test_split\n",
        "\n",
        "X_train, X_val, Y_train, Y_val = train_test_split(X_train, Y_train)"
      ],
      "execution_count": 0,
      "outputs": []
    },
    {
      "cell_type": "code",
      "metadata": {
        "id": "pUlPjLdFAy2W",
        "colab_type": "code",
        "outputId": "afaaa2ce-3b89-4970-f75a-c8ff0804be90",
        "colab": {
          "base_uri": "https://localhost:8080/",
          "height": 325
        }
      },
      "source": [
        "model = Sequential()\n",
        "model.add(Dense(512, activation='relu', input_shape=(784,)))\n",
        "model.add(Dropout(0.2))\n",
        "model.add(Dense(512, activation='relu'))\n",
        "model.add(Dropout(0.2))\n",
        "model.add(Dense(10, activation='softmax'))\n",
        "\n",
        "model.compile(loss='categorical_crossentropy', optimizer=SGD(lr=0.001), \n",
        "              metrics=['accuracy'])"
      ],
      "execution_count": 0,
      "outputs": [
        {
          "output_type": "stream",
          "text": [
            "WARNING: Logging before flag parsing goes to stderr.\n",
            "W0713 07:55:57.085833 140039046477696 deprecation_wrapper.py:119] From /usr/local/lib/python3.6/dist-packages/keras/backend/tensorflow_backend.py:74: The name tf.get_default_graph is deprecated. Please use tf.compat.v1.get_default_graph instead.\n",
            "\n",
            "W0713 07:55:57.126222 140039046477696 deprecation_wrapper.py:119] From /usr/local/lib/python3.6/dist-packages/keras/backend/tensorflow_backend.py:517: The name tf.placeholder is deprecated. Please use tf.compat.v1.placeholder instead.\n",
            "\n",
            "W0713 07:55:57.133985 140039046477696 deprecation_wrapper.py:119] From /usr/local/lib/python3.6/dist-packages/keras/backend/tensorflow_backend.py:4138: The name tf.random_uniform is deprecated. Please use tf.random.uniform instead.\n",
            "\n",
            "W0713 07:55:57.152208 140039046477696 deprecation_wrapper.py:119] From /usr/local/lib/python3.6/dist-packages/keras/backend/tensorflow_backend.py:133: The name tf.placeholder_with_default is deprecated. Please use tf.compat.v1.placeholder_with_default instead.\n",
            "\n",
            "W0713 07:55:57.162332 140039046477696 deprecation.py:506] From /usr/local/lib/python3.6/dist-packages/keras/backend/tensorflow_backend.py:3445: calling dropout (from tensorflow.python.ops.nn_ops) with keep_prob is deprecated and will be removed in a future version.\n",
            "Instructions for updating:\n",
            "Please use `rate` instead of `keep_prob`. Rate should be set to `rate = 1 - keep_prob`.\n",
            "W0713 07:55:57.225846 140039046477696 deprecation_wrapper.py:119] From /usr/local/lib/python3.6/dist-packages/keras/optimizers.py:790: The name tf.train.Optimizer is deprecated. Please use tf.compat.v1.train.Optimizer instead.\n",
            "\n",
            "W0713 07:55:57.236933 140039046477696 deprecation_wrapper.py:119] From /usr/local/lib/python3.6/dist-packages/keras/backend/tensorflow_backend.py:3295: The name tf.log is deprecated. Please use tf.math.log instead.\n",
            "\n"
          ],
          "name": "stderr"
        }
      ]
    },
    {
      "cell_type": "code",
      "metadata": {
        "id": "VN50-t8OA-Rd",
        "colab_type": "code",
        "outputId": "ff95faa9-e49d-4dc4-d415-08373b3c6f21",
        "colab": {
          "base_uri": "https://localhost:8080/",
          "height": 829
        }
      },
      "source": [
        "network_history = model.fit(X_train, Y_train, batch_size=128, \n",
        "                            epochs=20, verbose=1, validation_data=(X_val, Y_val))"
      ],
      "execution_count": 0,
      "outputs": [
        {
          "output_type": "stream",
          "text": [
            "W0713 07:56:02.955015 140039046477696 deprecation.py:323] From /usr/local/lib/python3.6/dist-packages/tensorflow/python/ops/math_grad.py:1250: add_dispatch_support.<locals>.wrapper (from tensorflow.python.ops.array_ops) is deprecated and will be removed in a future version.\n",
            "Instructions for updating:\n",
            "Use tf.where in 2.0, which has the same broadcast rule as np.where\n"
          ],
          "name": "stderr"
        },
        {
          "output_type": "stream",
          "text": [
            "Train on 45000 samples, validate on 15000 samples\n",
            "Epoch 1/20\n",
            "45000/45000 [==============================] - 5s 115us/step - loss: 2.2460 - acc: 0.1826 - val_loss: 2.1049 - val_acc: 0.4580\n",
            "Epoch 2/20\n",
            "45000/45000 [==============================] - 1s 31us/step - loss: 2.0251 - acc: 0.4291 - val_loss: 1.8753 - val_acc: 0.6629\n",
            "Epoch 3/20\n",
            "45000/45000 [==============================] - 1s 30us/step - loss: 1.8054 - acc: 0.5890 - val_loss: 1.6381 - val_acc: 0.7277\n",
            "Epoch 4/20\n",
            "45000/45000 [==============================] - 1s 30us/step - loss: 1.5886 - acc: 0.6623 - val_loss: 1.4054 - val_acc: 0.7657\n",
            "Epoch 5/20\n",
            "45000/45000 [==============================] - 1s 30us/step - loss: 1.3776 - acc: 0.7102 - val_loss: 1.1989 - val_acc: 0.7923\n",
            "Epoch 6/20\n",
            "45000/45000 [==============================] - 1s 30us/step - loss: 1.2013 - acc: 0.7341 - val_loss: 1.0319 - val_acc: 0.8126\n",
            "Epoch 7/20\n",
            "45000/45000 [==============================] - 1s 30us/step - loss: 1.0578 - acc: 0.7582 - val_loss: 0.9039 - val_acc: 0.8245\n",
            "Epoch 8/20\n",
            "45000/45000 [==============================] - 1s 29us/step - loss: 0.9496 - acc: 0.7750 - val_loss: 0.8068 - val_acc: 0.8359\n",
            "Epoch 9/20\n",
            "45000/45000 [==============================] - 1s 30us/step - loss: 0.8650 - acc: 0.7862 - val_loss: 0.7326 - val_acc: 0.8443\n",
            "Epoch 10/20\n",
            "45000/45000 [==============================] - 1s 30us/step - loss: 0.8011 - acc: 0.7966 - val_loss: 0.6749 - val_acc: 0.8497\n",
            "Epoch 11/20\n",
            "45000/45000 [==============================] - 1s 30us/step - loss: 0.7478 - acc: 0.8065 - val_loss: 0.6292 - val_acc: 0.8565\n",
            "Epoch 12/20\n",
            "45000/45000 [==============================] - 1s 30us/step - loss: 0.7048 - acc: 0.8155 - val_loss: 0.5923 - val_acc: 0.8611\n",
            "Epoch 13/20\n",
            "45000/45000 [==============================] - 1s 29us/step - loss: 0.6715 - acc: 0.8207 - val_loss: 0.5614 - val_acc: 0.8655\n",
            "Epoch 14/20\n",
            "45000/45000 [==============================] - 1s 29us/step - loss: 0.6405 - acc: 0.8251 - val_loss: 0.5359 - val_acc: 0.8689\n",
            "Epoch 15/20\n",
            "45000/45000 [==============================] - 1s 29us/step - loss: 0.6143 - acc: 0.8307 - val_loss: 0.5141 - val_acc: 0.8718\n",
            "Epoch 16/20\n",
            "45000/45000 [==============================] - 1s 29us/step - loss: 0.5954 - acc: 0.8359 - val_loss: 0.4952 - val_acc: 0.8747\n",
            "Epoch 17/20\n",
            "45000/45000 [==============================] - 1s 31us/step - loss: 0.5748 - acc: 0.8405 - val_loss: 0.4791 - val_acc: 0.8771\n",
            "Epoch 18/20\n",
            "45000/45000 [==============================] - 1s 30us/step - loss: 0.5595 - acc: 0.8447 - val_loss: 0.4650 - val_acc: 0.8797\n",
            "Epoch 19/20\n",
            "45000/45000 [==============================] - 1s 30us/step - loss: 0.5424 - acc: 0.8486 - val_loss: 0.4522 - val_acc: 0.8821\n",
            "Epoch 20/20\n",
            "45000/45000 [==============================] - 1s 30us/step - loss: 0.5314 - acc: 0.8494 - val_loss: 0.4408 - val_acc: 0.8845\n"
          ],
          "name": "stdout"
        }
      ]
    }
  ]
}